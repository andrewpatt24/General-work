{
 "metadata": {
  "name": "",
  "signature": "sha256:b69e489ca2f6f8381bb5cf696eb9eb0471daa8c993e842f6ecf80a37649bcf80"
 },
 "nbformat": 3,
 "nbformat_minor": 0,
 "worksheets": [
  {
   "cells": [
    {
     "cell_type": "code",
     "collapsed": false,
     "input": [
      "import urllib\n",
      "import requests\n",
      "import csv\n",
      "import math\n",
      "import re\n",
      "import htmlmin\n",
      "\n",
      "from bs4 import BeautifulSoup\n",
      "from datetime import date"
     ],
     "language": "python",
     "metadata": {},
     "outputs": [],
     "prompt_number": 24
    },
    {
     "cell_type": "code",
     "collapsed": false,
     "input": [
      "##Use this if you want to provide an array of dictionary entries - Use for mongodb\n",
      "##Get URL output\n",
      "url = \"http://fantasy.premierleague.com/player-list/\"\n",
      "r = requests.get(url)\n",
      "\n",
      "##Minify html - issues with whitespace\n",
      "rmin = htmlmin.minify(r.text,remove_empty_space=True)\n",
      "\n",
      "##Create soup\n",
      "soup = BeautifulSoup(rmin)\n",
      "\n",
      "##Pull out Player types and take just first letter from each for ID.\n",
      "player_type = soup.find_all('h2')\n",
      "\n",
      "i=0\n",
      "for type in player_type:\n",
      "    player_type[i] = type.string[0]\n",
      "    i=i+1\n",
      "\n",
      "##Get get all tables as array\n",
      "player_tables = soup.find_all(\"table\")\n",
      "\n",
      "###Find column names\n",
      "column_name = soup.table.find_all('th')\n",
      "##pull out string\n",
      "i=0\n",
      "for name in column_name:\n",
      "    column_name[i] = name.string\n",
      "    i=i+1\n",
      "##Add position\n",
      "column_name.append('Position')\n",
      "\n",
      "print column_name\n",
      "\n",
      "\n",
      "player_dict = []\n",
      "\n",
      "ptype = [u'G',u'D',u'M',u'F']\n",
      "\n",
      "j=0\n",
      "for t in player_tables:\n",
      "    #print t\n",
      "    type_num =  int(math.floor(j/2))\n",
      "    #print type_num\n",
      "    j=j+1\n",
      "    #print ptype[type_num]\n",
      "    untable = t.find_all(\"td\")\n",
      "    #print untable\n",
      "    \n",
      "    for p in range (0,len(untable)/4):\n",
      "        untable[4*p].string = untable[4*p].string.encode('ascii', 'replace')\n",
      "        rowtowrite = [untable[4*p].string,untable[4*p+1].string,untable[4*p+2].string,untable[4*p+3].string[1:],ptype[type_num]]\n",
      "        #print rowtowrite\n",
      "        dict_entry = {\"Player\": untable[4*p].string,\n",
      "                          \"Team\": untable[4*p+1].string,\n",
      "                          \"Points\": int(untable[4*p+2].string),\n",
      "                          \"Cost\": float(untable[4*p+3].string[1:]),\n",
      "                          \"Position\": ptype[type_num]\n",
      "                          }\n",
      "        #print dict_entry\n",
      "        player_dict.append(dict_entry)\n",
      "\n",
      "print player_dict[:5]"
     ],
     "language": "python",
     "metadata": {},
     "outputs": [
      {
       "output_type": "stream",
       "stream": "stdout",
       "text": [
        "[u'Player', u'Team', u'Points', u'Cost', 'Position']\n",
        "[{'Cost': 6.0, 'Player': u'Courtois', 'Points': 22, 'Position': u'G', 'Team': u'Chelsea'}, {'Cost': 6.0, 'Player': u'Hart', 'Points': 21, 'Position': u'G', 'Team': u'Man City'}, {'Cost': 5.6, 'Player': u'Cech', 'Points': 6, 'Position': u'G', 'Team': u'Chelsea'}, {'Cost': 5.6, 'Player': u'Lloris', 'Points': 31, 'Position': u'G', 'Team': u'Spurs'}, {'Cost': 5.5, 'Player': u'Szczesny', 'Points': 17, 'Position': u'G', 'Team': u'Arsenal'}]"
       ]
      },
      {
       "output_type": "stream",
       "stream": "stdout",
       "text": [
        "\n"
       ]
      }
     ],
     "prompt_number": 4
    },
    {
     "cell_type": "code",
     "collapsed": false,
     "input": [
      "## From tutorial on http://api.mongodb.org/python/current/tutorial.html\n",
      "## This is to upload the data from mongodb\n",
      "from pymongo import MongoClient\n",
      "\n",
      "dbusername = 'andrewpatt24'\n",
      "dbpassword = '24logan87'\n",
      "dbname = 'database1'\n",
      "mongodb_uri = \"mongodb://\"+ dbusername + \":\" + dbpassword + \"@ds043200.mongolab.com:43200/\" + dbname\n",
      "\n",
      "\n",
      "client = MongoClient(mongodb_uri)\n",
      "db = client.database1\n",
      "\n",
      "## Add in date to player list\n",
      "\n",
      "player_dict_date = {'meta': {'date': str(date.today())}, 'points' : player_dict}\n",
      "\n"
     ],
     "language": "python",
     "metadata": {},
     "outputs": [],
     "prompt_number": 36
    },
    {
     "cell_type": "code",
     "collapsed": false,
     "input": [
      "##Insert the data into a test database. When this is operationalised I will put it in a new collection\n",
      "db.testdata.insert(player_dict_date)"
     ],
     "language": "python",
     "metadata": {},
     "outputs": [],
     "prompt_number": 0
    },
    {
     "cell_type": "code",
     "collapsed": false,
     "input": [
      "##Lets try and locate some of the data\n",
      "print db.testdata.findone()"
     ],
     "language": "python",
     "metadata": {},
     "outputs": [
      {
       "ename": "TypeError",
       "evalue": "'Collection' object is not callable. If you meant to call the 'findone' method on a 'Collection' object it is failing because no such method exists.",
       "output_type": "pyerr",
       "traceback": [
        "\u001b[0;31m---------------------------------------------------------------------------\u001b[0m\n\u001b[0;31mTypeError\u001b[0m                                 Traceback (most recent call last)",
        "\u001b[0;32m<ipython-input-48-a054101875b3>\u001b[0m in \u001b[0;36m<module>\u001b[0;34m()\u001b[0m\n\u001b[1;32m      1\u001b[0m \u001b[0;31m##Lets try and locate some of the data\u001b[0m\u001b[0;34m\u001b[0m\u001b[0;34m\u001b[0m\u001b[0m\n\u001b[0;32m----> 2\u001b[0;31m \u001b[0;32mprint\u001b[0m \u001b[0mdb\u001b[0m\u001b[0;34m.\u001b[0m\u001b[0mtestdata\u001b[0m\u001b[0;34m.\u001b[0m\u001b[0mfindone\u001b[0m\u001b[0;34m(\u001b[0m\u001b[0;34m)\u001b[0m\u001b[0;34m\u001b[0m\u001b[0m\n\u001b[0m",
        "\u001b[0;32m/Library/Python/2.7/site-packages/pymongo/collection.pyc\u001b[0m in \u001b[0;36m__call__\u001b[0;34m(self, *args, **kwargs)\u001b[0m\n\u001b[1;32m   1707\u001b[0m                         \u001b[0;34m\"call the '%s' method on a 'Collection' object it is \"\u001b[0m\u001b[0;34m\u001b[0m\u001b[0m\n\u001b[1;32m   1708\u001b[0m                         \u001b[0;34m\"failing because no such method exists.\"\u001b[0m \u001b[0;34m%\u001b[0m\u001b[0;34m\u001b[0m\u001b[0m\n\u001b[0;32m-> 1709\u001b[0;31m                         self.__name.split(\".\")[-1])\n\u001b[0m",
        "\u001b[0;31mTypeError\u001b[0m: 'Collection' object is not callable. If you meant to call the 'findone' method on a 'Collection' object it is failing because no such method exists."
       ]
      }
     ],
     "prompt_number": 48
    },
    {
     "cell_type": "code",
     "collapsed": false,
     "input": [],
     "language": "python",
     "metadata": {},
     "outputs": []
    }
   ],
   "metadata": {}
  }
 ]
}